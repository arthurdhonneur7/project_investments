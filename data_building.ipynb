{
 "cells": [
  {
   "cell_type": "markdown",
   "metadata": {},
   "source": [
    "# Section 2 : Downloading data"
   ]
  },
  {
   "cell_type": "markdown",
   "metadata": {},
   "source": [
    "## Getting hands on the right library and table"
   ]
  },
  {
   "cell_type": "code",
   "execution_count": null,
   "metadata": {},
   "outputs": [],
   "source": [
    "import wrds\n",
    "import numpy as np\n",
    "import pandas as pd\n",
    "import seaborn as sns\n",
    "import matplotlib.pyplot as plt\n",
    "\n",
    "sns.set_theme()"
   ]
  },
  {
   "cell_type": "code",
   "execution_count": null,
   "metadata": {},
   "outputs": [],
   "source": [
    "db=wrds.Connection(wrds_username='arthurdhonneur')"
   ]
  },
  {
   "cell_type": "code",
   "execution_count": null,
   "metadata": {},
   "outputs": [],
   "source": [
    "db.list_libraries()"
   ]
  },
  {
   "cell_type": "code",
   "execution_count": null,
   "metadata": {},
   "outputs": [],
   "source": [
    "db.list_tables(library='wrdsapps_windices')\n"
   ]
  },
  {
   "cell_type": "code",
   "execution_count": null,
   "metadata": {},
   "outputs": [],
   "source": [
    "df = db.get_table(library='wrdsapps_windices', table='mwcountryreturns')\n",
    "\n",
    "df.head()"
   ]
  },
  {
   "cell_type": "code",
   "execution_count": null,
   "metadata": {},
   "outputs": [],
   "source": [
    "#---------------------------------------------\n",
    "# Value Weighted Index Returns\n",
    "#---------------------------------------------\n",
    "Rm=db.raw_sql(\"\"\"select  date,vwretd from crsp.msi \n",
    "                where date>='2002-01-01' and date<='2024-12-31'\n",
    "                \"\"\",date_cols=['date'])\n",
    "Rm = Rm.rename(columns={'vwretd':'Rm'})\n",
    "\n",
    "Rm.head()"
   ]
  },
  {
   "cell_type": "code",
   "execution_count": null,
   "metadata": {},
   "outputs": [],
   "source": [
    "#---------------------------------------------\n",
    "# Risk Free Rate \n",
    "#---------------------------------------------\n",
    "Rf=db.raw_sql(\"\"\"select  mcaldt,tmytm \n",
    "           from crsp.tfz_mth_rf            \n",
    "            where kytreasnox = 2000001 \n",
    "           and mcaldt>='2002-01-01'\n",
    "            and mcaldt<='2024-12-31'\"\"\", date_cols=['mcaldt'])\n",
    "Rf['tmytm']=Rf['tmytm']/12/100\n",
    "Rf=Rf.rename(columns={ \"mcaldt\": \"date\",\"tmytm\": \"rf\"})\n",
    "\n",
    "Rf.tail()"
   ]
  },
  {
   "cell_type": "markdown",
   "metadata": {},
   "source": [
    "## Looking at the fx data\n"
   ]
  },
  {
   "cell_type": "code",
   "execution_count": null,
   "metadata": {},
   "outputs": [],
   "source": [
    "import glob\n",
    "\n",
    "paths_fx = glob.glob('data/fx/*.csv')\n",
    "\n",
    "for path in paths_fx:\n",
    "    curr = path.split('/')[-1].split('.')[0]\n",
    "    print(f'the currency :{curr}')\n",
    "    \n",
    "    df_tamp = pd.read_csv(path)\n",
    "    print(f'the len of the data :{len(df_tamp)}')\n",
    "    print('--'*20)"
   ]
  },
  {
   "cell_type": "markdown",
   "metadata": {},
   "source": [
    "## Looking at the interbank data"
   ]
  },
  {
   "cell_type": "code",
   "execution_count": null,
   "metadata": {},
   "outputs": [],
   "source": [
    "paths_rates = glob.glob('data/interbank_rates/*.csv')\n",
    "\n",
    "for path in paths_rates:\n",
    "    curr = path.split('/')[-1].split('.')[0]\n",
    "    print(f'the currency :{curr}')\n",
    "    \n",
    "    df_tamp = pd.read_csv(path)\n",
    "    print(f'the len of the data :{len(df_tamp)}')\n",
    "    print('--'*20)"
   ]
  },
  {
   "cell_type": "markdown",
   "metadata": {},
   "source": [
    "## Working with the right library / table"
   ]
  },
  {
   "cell_type": "code",
   "execution_count": null,
   "metadata": {},
   "outputs": [],
   "source": [
    "df = df[(df['date'] >= '2002-01-01') & (df['date'] <= '2024-12-31')]\n",
    "\n",
    "list_countries = ['AUS', 'FRA', 'DEU', 'JPN', 'CHE','GBR']\n",
    "df = df[df['fic'].isin(list_countries)]\n",
    "\n",
    "df.sample(10)"
   ]
  },
  {
   "cell_type": "code",
   "execution_count": null,
   "metadata": {},
   "outputs": [],
   "source": [
    "df.head(10)"
   ]
  },
  {
   "cell_type": "code",
   "execution_count": null,
   "metadata": {},
   "outputs": [],
   "source": [
    "# Get the list of unique countries\n",
    "countries = df['country'].unique()\n",
    "\n",
    "# List to hold individual country DataFrames\n",
    "country_dfs = []\n",
    "\n",
    "for country in countries:\n",
    "\n",
    "    print(f'Processing country: {country}')\n",
    "    # Filter for the specific country\n",
    "    df_country = df[df['country'] == country].copy()\n",
    "    \n",
    "    print(f'Number of rows for {country}: {len(df_country)}')\n",
    "    \n",
    "    # Drop the 'country' column as it's now implicit\n",
    "    df_country = df_country.drop(columns=['country'])\n",
    "    df_country['date'] = Rm['date'] \n",
    "    \n",
    "    # Rename columns to include country suffix, except 'date'\n",
    "    df_country = df_country.rename(columns={col: f\"{col}_{country}\" for col in df_country.columns if col != 'date'})\n",
    "    \n",
    "    # Append to list\n",
    "    country_dfs.append(df_country)\n",
    "\n",
    "# Merge all country-specific DataFrames on 'date'\n",
    "from functools import reduce\n",
    "df_merged = reduce(lambda left, right: pd.merge(left, right, on='date', how='outer'), country_dfs)\n",
    "\n",
    "# Optional: sort by date\n",
    "df_merged = df_merged.sort_values(by='date')\n",
    "\n",
    "# Display the result\n",
    "print(df_merged.head())\n"
   ]
  },
  {
   "cell_type": "code",
   "execution_count": null,
   "metadata": {},
   "outputs": [],
   "source": [
    "df_merged.head()"
   ]
  },
  {
   "cell_type": "code",
   "execution_count": null,
   "metadata": {},
   "outputs": [],
   "source": [
    "df[df['fic'] == 'AUS']['date']"
   ]
  },
  {
   "cell_type": "code",
   "execution_count": null,
   "metadata": {},
   "outputs": [],
   "source": []
  }
 ],
 "metadata": {
  "kernelspec": {
   "display_name": "investmentepfl",
   "language": "python",
   "name": "python3"
  },
  "language_info": {
   "codemirror_mode": {
    "name": "ipython",
    "version": 3
   },
   "file_extension": ".py",
   "mimetype": "text/x-python",
   "name": "python",
   "nbconvert_exporter": "python",
   "pygments_lexer": "ipython3",
   "version": "3.11.11"
  }
 },
 "nbformat": 4,
 "nbformat_minor": 2
}
