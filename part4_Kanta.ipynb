{
 "cells": [
  {
   "cell_type": "markdown",
   "metadata": {},
   "source": [
    "# 4 Equity Index Momentum Strategy (MOM)"
   ]
  },
  {
   "cell_type": "markdown",
   "metadata": {},
   "source": [
    "(a) \n",
    "Construct the return to a long-short momentum strategy portfolio. To that effect every month sort currency hedged stock indexes based on their 1-month lagged 11-month return (that is in month trank stocks based on their t− 12 to t− 1 cumulative return). Call Rankit the corresponding rank of index i at time t (e.g., Rankit = 2 if country i has the second lowest Currency-hedged return over the last year.)\n",
    "Then compute monthly returns to a portfolio that invests in index i the weight\n",
    "  wit = Z(Ranki−(N + 1)/2 )\n",
    "for all i= 1,...,N, and where N is the total number of stock indexes traded and Z is a factor that insures that the the sum of the long positions is +$1 and the sum of the short positons is−$1."
   ]
  },
  {
   "cell_type": "code",
   "execution_count": 1,
   "metadata": {},
   "outputs": [],
   "source": [
    "import pandas as pd\n",
    "import numpy as np"
   ]
  },
  {
   "cell_type": "code",
   "execution_count": null,
   "metadata": {},
   "outputs": [],
   "source": [
    "# Load the dataset and set 'date' as the index\n",
    "df = pd.read_csv(\"merged_all_data.csv\", parse_dates=['date'])\n",
    "df.set_index('date', inplace=True)\n",
    "\n",
    "# Define the list of countries and prefix for currency-hedged returns\n",
    "countries = ['AUSTRALIA', 'SWITZERLAND', 'GERMANY', 'FRANCE', 'UNITED KINGDOM', 'JAPAN']\n",
    "prefix = 'mportretx_'  # monthly portfolio returns, currency-hedged\n",
    "\n",
    "# Create a DataFrame to store momentum signals\n",
    "momentum = pd.DataFrame(index=df.index)\n",
    "\n",
    "# Compute past 11-month cumulative log-returns for each country\n",
    "for country in countries:\n",
    "    col = prefix + country\n",
    "    log_ret = np.log(1 + df[col])\n",
    "    momentum[country] = log_ret.rolling(window=11, min_periods=11).sum().shift(1)  # t−12 to t−1 returns\n",
    "\n",
    "# Rank countries each month based on their momentum\n",
    "ranks = momentum.rank(axis=1, method='first')\n",
    "\n",
    "# Compute ranking weights for the long-short portfolio\n",
    "N = len(countries)\n",
    "Z = 2 / (N * (N - 1))\n",
    "weights = (ranks - (N + 1) / 2) * Z  # assigns positive weights to winners, negative to losers\n",
    "\n",
    "# Extract return data and rename columns\n",
    "returns = df[[prefix + c for c in countries]].copy()\n",
    "returns.columns = countries\n",
    "\n",
    "# Compute the return of the momentum strategy\n",
    "MOM_return = (weights * returns).sum(axis=1)"
   ]
  },
  {
   "cell_type": "markdown",
   "metadata": {},
   "source": [
    "(b) Compute and compare the mean, standard deviation, and Sharpe ratios of the long\n",
    "and short legs of the strategy as well as of the strategy itself. Test if the strategy has\n",
    "an average return that is statistically significantly different from zero."
   ]
  },
  {
   "cell_type": "code",
   "execution_count": 8,
   "metadata": {},
   "outputs": [
    {
     "name": "stdout",
     "output_type": "stream",
     "text": [
      "            Mean     Std  Sharpe  t-stat  p-value\n",
      "Long      0.0034  0.0382  0.0892     NaN      NaN\n",
      "Short     0.0053  0.0384  0.1372     NaN      NaN\n",
      "Strategy -0.0007  0.0072 -0.0965 -1.6026   0.1102\n"
     ]
    }
   ],
   "source": [
    "# Define long and short positions based on ranks\n",
    "# Long: top 3 countries by momentum\n",
    "# Short: bottom 3 countries by momentum\n",
    "long_mask = ranks.apply(lambda row: row >= (N - 3 + 1), axis=1)\n",
    "short_mask = ranks.apply(lambda row: row <= 3, axis=1)\n",
    "\n",
    "# Compute average return of long and short legs\n",
    "long_returns = (returns * long_mask).sum(axis=1) / long_mask.sum(axis=1)\n",
    "short_returns = (returns * short_mask).sum(axis=1) / short_mask.sum(axis=1)\n",
    "\n",
    "# Momentum strategy return (already computed before)\n",
    "strategy_returns = MOM_return\n",
    "\n",
    "import pandas as pd\n",
    "import numpy as np\n",
    "from scipy import stats\n",
    "\n",
    "# Create a DataFrame to summarize mean, standard deviation, and Sharpe ratio\n",
    "results = pd.DataFrame({\n",
    "    \"Mean\": [long_returns.mean(), short_returns.mean(), strategy_returns.mean()],\n",
    "    \"Std\": [long_returns.std(), short_returns.std(), strategy_returns.std()],\n",
    "    \"Sharpe\": [\n",
    "        long_returns.mean() / long_returns.std(),\n",
    "        short_returns.mean() / short_returns.std(),\n",
    "        strategy_returns.mean() / strategy_returns.std()\n",
    "    ]\n",
    "}, index=[\"Long\", \"Short\", \"Strategy\"])\n",
    "\n",
    "# Perform t-test to check if strategy return is significantly different from 0\n",
    "t_stat, p_value = stats.ttest_1samp(strategy_returns.dropna(), popmean=0)\n",
    "results[\"t-stat\"] = [np.nan, np.nan, t_stat]\n",
    "results[\"p-value\"] = [np.nan, np.nan, p_value]\n",
    "\n",
    "# Display result rounded to 4 decimal places\n",
    "print(results.round(4))"
   ]
  },
  {
   "cell_type": "code",
   "execution_count": null,
   "metadata": {},
   "outputs": [],
   "source": []
  }
 ],
 "metadata": {
  "kernelspec": {
   "display_name": "base",
   "language": "python",
   "name": "python3"
  },
  "language_info": {
   "codemirror_mode": {
    "name": "ipython",
    "version": 3
   },
   "file_extension": ".py",
   "mimetype": "text/x-python",
   "name": "python",
   "nbconvert_exporter": "python",
   "pygments_lexer": "ipython3",
   "version": "3.12.7"
  }
 },
 "nbformat": 4,
 "nbformat_minor": 2
}
