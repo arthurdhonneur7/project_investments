{
 "cells": [
  {
   "cell_type": "markdown",
   "metadata": {},
   "source": [
    "# 5 Equity Index Long Term Reversal strategy (REV)\n"
   ]
  },
  {
   "cell_type": "markdown",
   "metadata": {},
   "source": [
    "(a) \n",
    "Construct the return to a long-short reversal strategy portfolio. To that effect every month sort currency hedged stock indexes based on their 12-month lagged 5-year past return (that is in month t rank stocks based on their t−60 to t−12 cumulative return). Call Rankit the corresponding rank of index i at time t.\n",
    "Then compute monthly returns to a portfolio that invests in index i the weight: wit = Z ((N + 1)/2 − Ranki) for all i = 1, . . . , N, and where N is the total number of stock indexes traded and Z is a factor that insures that the the sum of the long positions is +$1 and the sum of the short positons is −$1."
   ]
  },
  {
   "cell_type": "code",
   "execution_count": 1,
   "metadata": {},
   "outputs": [],
   "source": [
    "import pandas as pd\n",
    "import numpy as np\n",
    "from scipy import stats\n"
   ]
  },
  {
   "cell_type": "code",
   "execution_count": 10,
   "metadata": {},
   "outputs": [],
   "source": [
    "# Load the dataset and set 'date' as the index\n",
    "df = pd.read_csv(\"merged_all_data.csv\", parse_dates=['date'])\n",
    "df.set_index('date', inplace=True)\n",
    "\n",
    "# Define the list of countries and prefix for currency-hedged returns\n",
    "countries = ['AUSTRALIA', 'SWITZERLAND', 'GERMANY', 'FRANCE', 'UNITED KINGDOM', 'JAPAN']\n",
    "prefix = 'mportretx_'  # monthly portfolio returns\n",
    "\n",
    "# Create a DataFrame for long-term reversal signals\n",
    "rev_signal = pd.DataFrame(index=df.index)\n",
    "\n",
    "# Compute past t−60 to t−12 cumulative log-returns\n",
    "for country in countries:\n",
    "    col = prefix + country\n",
    "    log_ret = np.log(1 + df[col])\n",
    "    rev_signal[country] = log_ret.rolling(window=49, min_periods=49).sum().shift(12)  # t−60 to t−12 returns\n",
    "\n",
    "# Rank countries each month based on reversal signal\n",
    "rev_ranks = rev_signal.rank(axis=1, method='first')\n",
    "\n",
    "# Compute ranking weights for the long-short reversal portfolio\n",
    "N = len(countries)\n",
    "Z = 2 / (N * (N - 1))\n",
    "rev_weights = ((N + 1)/2 - rev_ranks) * Z  # reversal: long past losers, short past winners\n",
    "\n",
    "# Extract returns8^1\n",
    "returns = df[[prefix + c for c in countries]].copy()\n",
    "returns.columns = countries\n",
    "\n",
    "# Compute REV strategy return\n",
    "REV_return = (rev_weights * returns).sum(axis=1)\n",
    "\n",
    "REV_return[rev_weights.isnull().any(axis=1)] = np.nan\n"
   ]
  },
  {
   "cell_type": "code",
   "execution_count": 12,
   "metadata": {},
   "outputs": [
    {
     "name": "stdout",
     "output_type": "stream",
     "text": [
      "date\n",
      "2002-01-31   NaN\n",
      "2002-02-28   NaN\n",
      "2002-03-28   NaN\n",
      "2002-04-30   NaN\n",
      "2002-05-31   NaN\n",
      "2002-06-28   NaN\n",
      "2002-07-31   NaN\n",
      "2002-08-30   NaN\n",
      "2002-09-30   NaN\n",
      "2002-10-31   NaN\n",
      "2002-11-29   NaN\n",
      "2002-12-31   NaN\n",
      "2003-01-31   NaN\n",
      "dtype: float64\n"
     ]
    }
   ],
   "source": [
    "print(REV_return.head(13))"
   ]
  },
  {
   "cell_type": "markdown",
   "metadata": {},
   "source": [
    "(b) Compute and compare the mean, standard deviation, and Sharpe ratios of the long\n",
    "and short legs of the strategy as well as of the strategy itself. Test if the strategy has\n",
    "an average return that is statistically significantly different from zero."
   ]
  },
  {
   "cell_type": "code",
   "execution_count": 13,
   "metadata": {},
   "outputs": [
    {
     "name": "stdout",
     "output_type": "stream",
     "text": [
      "            Mean     Std  Sharpe  t-stat  p-value\n",
      "Long      0.0023  0.0393  0.0579     NaN      NaN\n",
      "Short     0.0028  0.0398  0.0693     NaN      NaN\n",
      "Strategy -0.0002  0.0069 -0.0311 -0.4574   0.6478\n"
     ]
    }
   ],
   "source": [
    "# Define long and short positions based on ranks\n",
    "long_mask_rev = rev_ranks.apply(lambda row: row <= 3, axis=1)\n",
    "short_mask_rev = rev_ranks.apply(lambda row: row >= (N -3 + 1), axis=1)\n",
    "\n",
    "# Compute average return of long and short legs\n",
    "long_returns_rev = (returns * long_mask_rev).sum(axis=1) / long_mask_rev.sum(axis=1)\n",
    "short_returns_rev = (returns * short_mask_rev).sum(axis=1) / short_mask_rev.sum(axis=1)\n",
    "\n",
    "# Summary statistics\n",
    "rev_results = pd.DataFrame({\n",
    "    \"Mean\": [long_returns_rev.mean(), short_returns_rev.mean(), REV_return.mean()],\n",
    "    \"Std\": [long_returns_rev.std(), short_returns_rev.std(), REV_return.std()],\n",
    "    \"Sharpe\": [\n",
    "        long_returns_rev.mean() / long_returns_rev.std(),\n",
    "        short_returns_rev.mean() / short_returns_rev.std(),\n",
    "        REV_return.mean() / REV_return.std()\n",
    "    ]\n",
    "}, index=[\"Long\", \"Short\", \"Strategy\"])\n",
    "\n",
    "# T-test for significance\n",
    "t_stat, p_value = stats.ttest_1samp(REV_return.dropna(), popmean=0)\n",
    "rev_results[\"t-stat\"] = [np.nan, np.nan, t_stat]\n",
    "rev_results[\"p-value\"] = [np.nan, np.nan, p_value]\n",
    "\n",
    "# Display result rounded to 4 decimal places\n",
    "print(rev_results.round(4))"
   ]
  },
  {
   "cell_type": "markdown",
   "metadata": {},
   "source": [
    "(c) Regress the REV strategy return on the DIV return. Interpret the regression results.\n",
    "In particular, do you think that it is interesting for a DIV-investor to also invest in the\n",
    "REV strategy?"
   ]
  },
  {
   "cell_type": "code",
   "execution_count": 18,
   "metadata": {},
   "outputs": [
    {
     "name": "stdout",
     "output_type": "stream",
     "text": [
      "Collecting statsmodels\n",
      "  Downloading statsmodels-0.14.4-cp312-cp312-win_amd64.whl.metadata (9.5 kB)\n",
      "Requirement already satisfied: numpy<3,>=1.22.3 in c:\\users\\danny\\anaconda3\\envs\\epfl\\lib\\site-packages (from statsmodels) (2.2.3)\n",
      "Requirement already satisfied: scipy!=1.9.2,>=1.8 in c:\\users\\danny\\anaconda3\\envs\\epfl\\lib\\site-packages (from statsmodels) (1.15.2)\n",
      "Requirement already satisfied: pandas!=2.1.0,>=1.4 in c:\\users\\danny\\anaconda3\\envs\\epfl\\lib\\site-packages (from statsmodels) (2.2.3)\n",
      "Collecting patsy>=0.5.6 (from statsmodels)\n",
      "  Downloading patsy-1.0.1-py2.py3-none-any.whl.metadata (3.3 kB)\n",
      "Requirement already satisfied: packaging>=21.3 in c:\\users\\danny\\anaconda3\\envs\\epfl\\lib\\site-packages (from statsmodels) (24.2)\n",
      "Requirement already satisfied: python-dateutil>=2.8.2 in c:\\users\\danny\\anaconda3\\envs\\epfl\\lib\\site-packages (from pandas!=2.1.0,>=1.4->statsmodels) (2.9.0.post0)\n",
      "Requirement already satisfied: pytz>=2020.1 in c:\\users\\danny\\anaconda3\\envs\\epfl\\lib\\site-packages (from pandas!=2.1.0,>=1.4->statsmodels) (2025.1)\n",
      "Requirement already satisfied: tzdata>=2022.7 in c:\\users\\danny\\anaconda3\\envs\\epfl\\lib\\site-packages (from pandas!=2.1.0,>=1.4->statsmodels) (2025.1)\n",
      "Requirement already satisfied: six>=1.5 in c:\\users\\danny\\anaconda3\\envs\\epfl\\lib\\site-packages (from python-dateutil>=2.8.2->pandas!=2.1.0,>=1.4->statsmodels) (1.16.0)\n",
      "Downloading statsmodels-0.14.4-cp312-cp312-win_amd64.whl (9.8 MB)\n",
      "   ---------------------------------------- 0.0/9.8 MB ? eta -:--:--\n",
      "   --------- ------------------------------ 2.4/9.8 MB 12.3 MB/s eta 0:00:01\n",
      "   ---------------------- ----------------- 5.5/9.8 MB 12.9 MB/s eta 0:00:01\n",
      "   --------------------------------- ------ 8.1/9.8 MB 12.6 MB/s eta 0:00:01\n",
      "   ---------------------------------------  9.7/9.8 MB 12.3 MB/s eta 0:00:01\n",
      "   ---------------------------------------- 9.8/9.8 MB 10.4 MB/s eta 0:00:00\n",
      "Downloading patsy-1.0.1-py2.py3-none-any.whl (232 kB)\n",
      "Installing collected packages: patsy, statsmodels\n",
      "Successfully installed patsy-1.0.1 statsmodels-0.14.4\n"
     ]
    }
   ],
   "source": [
    "!pip install statsmodels"
   ]
  },
  {
   "cell_type": "code",
   "execution_count": 19,
   "metadata": {},
   "outputs": [
    {
     "name": "stdout",
     "output_type": "stream",
     "text": [
      "                            OLS Regression Results                            \n",
      "==============================================================================\n",
      "Dep. Variable:                    REV   R-squared:                       0.009\n",
      "Model:                            OLS   Adj. R-squared:                  0.004\n",
      "Method:                 Least Squares   F-statistic:                     1.875\n",
      "Date:                Tue, 03 Jun 2025   Prob (F-statistic):              0.172\n",
      "Time:                        20:09:41   Log-Likelihood:                 759.97\n",
      "No. Observations:                 213   AIC:                            -1516.\n",
      "Df Residuals:                     211   BIC:                            -1509.\n",
      "Df Model:                           1                                         \n",
      "Covariance Type:            nonrobust                                         \n",
      "==============================================================================\n",
      "                 coef    std err          t      P>|t|      [0.025      0.975]\n",
      "------------------------------------------------------------------------------\n",
      "const      -2.186e-05      0.000     -0.046      0.963      -0.001       0.001\n",
      "DIV           -0.0171      0.013     -1.369      0.172      -0.042       0.008\n",
      "==============================================================================\n",
      "Omnibus:                        0.104   Durbin-Watson:                   2.160\n",
      "Prob(Omnibus):                  0.950   Jarque-Bera (JB):                0.109\n",
      "Skew:                           0.050   Prob(JB):                        0.947\n",
      "Kurtosis:                       2.954   Cond. No.                         26.6\n",
      "==============================================================================\n",
      "\n",
      "Notes:\n",
      "[1] Standard Errors assume that the covariance matrix of the errors is correctly specified.\n"
     ]
    }
   ],
   "source": [
    "import statsmodels.api as sm\n",
    "import pandas as pd\n",
    "\n",
    "# Load DIV strategy returns\n",
    "DIV_return = pd.read_csv(\"returns_rp_hedged.csv\", parse_dates=['date'])\n",
    "DIV_return.set_index('date', inplace=True)\n",
    "\n",
    "# Align common time frame \n",
    "returns_df = pd.concat([REV_return, DIV_return], axis=1, join='inner')\n",
    "returns_df.columns = ['REV', 'DIV']\n",
    "\n",
    "# Delete missing values\n",
    "returns_df = returns_df.dropna()\n",
    "\n",
    "# Regression\n",
    "X = sm.add_constant(returns_df['DIV'])  # add intercept\n",
    "y = returns_df['REV']\n",
    "model = sm.OLS(y, X).fit()\n",
    "\n",
    "# print\n",
    "print(model.summary())\n"
   ]
  }
 ],
 "metadata": {
  "kernelspec": {
   "display_name": "Python 3 (ipykernel)",
   "language": "python",
   "name": "python3"
  },
  "language_info": {
   "codemirror_mode": {
    "name": "ipython",
    "version": 3
   },
   "file_extension": ".py",
   "mimetype": "text/x-python",
   "name": "python",
   "nbconvert_exporter": "python",
   "pygments_lexer": "ipython3",
   "version": "3.12.9"
  }
 },
 "nbformat": 4,
 "nbformat_minor": 4
}
